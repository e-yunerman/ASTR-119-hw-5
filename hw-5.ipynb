{
 "cells": [
  {
   "cell_type": "markdown",
   "metadata": {},
   "source": [
    "## Cash-Karp Runge-Kutta method with adaptive stepwise control\n",
    "\n",
    "Evolve the system of equations: dy/dx = z, dz/dx = -y"
   ]
  },
  {
   "cell_type": "code",
   "execution_count": null,
   "metadata": {},
   "outputs": [],
   "source": [
    "%matplotlib inline\n",
    "import numpy as np\n",
    "import matplotlib.pyplot as plt"
   ]
  },
  {
   "cell_type": "markdown",
   "metadata": {},
   "source": [
    "### Define our coupled derivatives to integrate"
   ]
  },
  {
   "cell_type": "code",
   "execution_count": null,
   "metadata": {},
   "outputs": [],
   "source": [
    "def dydx(x, y):\n",
    "    #set the derivatives\n",
    "    #dydx = z\n",
    "    #dzdx = -y\n",
    "    \n",
    "    #set y = y[0] and z = y[1]\n",
    "    \n",
    "    y_derivs = np.zeros(2)\n",
    "    \n",
    "    #set dydx = z\n",
    "    y_derivs[0] = y[1]\n",
    "    \n",
    "    #set dzdx = -y\n",
    "    y_derivs[1] = -1*y[0]\n",
    "    \n",
    "    return y_derivs"
   ]
  },
  {
   "cell_type": "markdown",
   "metadata": {},
   "source": [
    "### Define the 4th order RK method"
   ]
  },
  {
   "cell_type": "code",
   "execution_count": null,
   "metadata": {},
   "outputs": [],
   "source": [
    "def rk4_mv_core(dydx, xi, yi, nv, h):\n",
    "    #declare k? arrays\n",
    "    k1 = np.zeros(nv)\n",
    "    k2 = np.zeros(nv)\n",
    "    k3 = np.zeros(nv)\n",
    "    k4 = np.zeros(nv)\n",
    "    \n",
    "    #define x at 1/2 step\n",
    "    x_ipoh = xi + 0.5*h\n",
    "    \n",
    "    #define x at 1 step\n",
    "    x_ipo = xi + h\n",
    "    \n",
    "    #declare a temporary y array\n",
    "    y_temp = np.zeros(nv)\n",
    "    \n",
    "    #get k1 valyes\n",
    "    y_derivs = dydx(xi, yi)\n",
    "    k1[:] = h*y_derivs[:]\n",
    "    \n",
    "    #get k2 values\n",
    "    y_temp[:] = yi[:] + 0.5*k1[:]\n",
    "    y_derivs = dydx(x_ipoh, y_temp)\n",
    "    k2[:] = h*y_derivs[:]\n",
    "    \n",
    "    #get k3 values\n",
    "    y_temp[:] = yi[:] + 0.5*k2[:]\n",
    "    y_derivs = dydx(x_ipoh, y_temp)\n",
    "    k3[:] = h*y_derivs[:]\n",
    "    \n",
    "    #get k4 values\n",
    "    y_temp[:] = yi[:] + k3[:]\n",
    "    y_derivs = dydx(x_ipo, y_temp)\n",
    "    k4[:] = h*y_derivs[:]\n",
    "    \n",
    "    #advance y by a step h\n",
    "    yipo = yi + (k1 + 2*k2 + 2*k3 + k4)/6.\n",
    "    \n",
    "    return yipo"
   ]
  },
  {
   "cell_type": "markdown",
   "metadata": {},
   "source": [
    "### Adaptive step-size control"
   ]
  },
  {
   "cell_type": "code",
   "execution_count": null,
   "metadata": {},
   "outputs": [],
   "source": [
    "def rk6_mv_core(dydx, xi, yi, nv, h):\n",
    "    #declare k? arrays\n",
    "    k1 = np.zeros(nv)\n",
    "    k2 = np.zeros(nv)\n",
    "    k3 = np.zeros(nv)\n",
    "    k4 = np.zeros(nv)\n",
    "    k5 = np.zeros(nv)\n",
    "    k6 = np.zeros(nv)\n",
    "    \n",
    "    #define coefficients\n",
    "    c = [0,0,1/5,3/10,3/5,1,7/8]\n",
    "    a1 = [0,1/5,3/40,3/10,-11/54,1631/55296]\n",
    "    a2 = [0,0,9/40,-9/10,5/2,175/512]\n",
    "    a3 = [0,0,0,6/5,-70/27,575/13824]\n",
    "    a4 = [0,0,0,0,35/27,44275/110592]\n",
    "    a5 = [0,0,0,0,0,253/4096]\n",
    "    bi = [37/378,0,250/621,125/594,0,512/1771]\n",
    "    bI = [2825/27648,0,18575/48384,13525/55296,277/14336,1/4]\n",
    "    \n",
    "    k1 = h * dydx(xi, yi)\n",
    "    k2 = h * dydx(xi + c[2]*h, yi + a1[1]*k1)\n",
    "    k3 = h * dydx(xi + c[3]*h, yi + a1[2]*k1 + a2[2]*k2)\n",
    "    k4 = h * dydx(xi + c[4]*h, yi + a1[3]*k1 + a2[3]*k2 + a3[3]*k3)\n",
    "    k5 = h * dydx(xi + c[5]*h, yi + a1[4]*k1 + a2[4]*k2 + a3[4]*k3 + a4[4]*k4)\n",
    "    k6 = h * dydx(xi + c[6]*h, yi + a1[5]*k1 + a2[5]*k2 + a3[5]*k3 + a4[5]*k4 + a5[5]*k5)\n",
    "    \n",
    "    yipo = (bi[0] - bI[0])*k1 + (bi[1] - bI[1])*k2 + (bi[2] - bI[2])*k3 + (bi[3] - bI[3])*k4 + (bi[4] - bI[4])*k5 + (bi[5] - bI[5])*k6\n",
    "    \n",
    "    return yipo"
   ]
  },
  {
   "cell_type": "markdown",
   "metadata": {},
   "source": [
    "### Define an adaptive step size driver for RK4"
   ]
  },
  {
   "cell_type": "code",
   "execution_count": null,
   "metadata": {},
   "outputs": [],
   "source": [
    "def rk4_mv_ad(dydx, x_i, y_i, nv, h, tol):\n",
    "    #define safety scale\n",
    "    SAFETY = 0.9\n",
    "    H_NEW_FAC = 2.0\n",
    "    \n",
    "    #set a maximum number of itterations\n",
    "    imax = 1000\n",
    "    \n",
    "    #set an iteration variabel\n",
    "    i = 0\n",
    "    \n",
    "    #create an error\n",
    "    Delta = np.full(nv, 2*tol)\n",
    "    \n",
    "    #remember the step\n",
    "    h_step = h\n",
    "    \n",
    "    #adjust step\n",
    "    while(Delta.max()/ tol > 1.0):\n",
    "        #estimate our error by taking one step of size h vs. two steps of size h/2\n",
    "        y_2 = rk6_mv_core(dydx, x_i, y_i, nv, h_step)\n",
    "        y_1 = rk6_mv_core(dydx, x_i, y_i, nv, 0.5*h_step)\n",
    "        y_11 = rk6_mv_core(dydx, x_i + 0.5*h_step, y_1, nv, 0.5*h_step)\n",
    "        \n",
    "        #compute an error\n",
    "        Delta = np.fabs(y_2 - y_11)\n",
    "        \n",
    "        #if the error is too large, take a smaller step\n",
    "        if(Delta.max()/tol > 1.0):\n",
    "            #our error is too large, decreases the step\n",
    "            h_step *= SAFETY * (Delta.max()/tol)**(-0.25)\n",
    "            \n",
    "        #check iteration\n",
    "        if(i >= imax):\n",
    "            print(\"Too many iterations in rk4_mv_ad()\")\n",
    "            raise StopIteration(\"Ending after i = \",i)\n",
    "            \n",
    "        #iterate\n",
    "        i += 1\n",
    "        \n",
    "    #next time try to take a bigger step\n",
    "    h_new = np.fmin(h_step * (Delta.max()/tol)**(-0.9), h_step*H_NEW_FAC)\n",
    "    \n",
    "    #return the answer, a new step, and the step we actually took\n",
    "    return y_2, h_new, h_step"
   ]
  },
  {
   "cell_type": "markdown",
   "metadata": {},
   "source": [
    "### Define a wrapper for RK4"
   ]
  },
  {
   "cell_type": "code",
   "execution_count": null,
   "metadata": {},
   "outputs": [],
   "source": [
    "def rk4_mv(dfdx, a, b, y_a, tol):\n",
    "    #dfdx is the derivate with respect to x\n",
    "    #a is the lower bound\n",
    "    #b is the upper bound\n",
    "    #y_a are the boundary conditions\n",
    "    #tol is the tolerance for integrating y\n",
    "    \n",
    "    #define our starting step\n",
    "    xi = a\n",
    "    yi = y_a.copy()\n",
    "    \n",
    "    #an initial step size == make very small!\n",
    "    h = 1.0e-4 * (b - a)\n",
    "    \n",
    "    #set a maximum number of iterations\n",
    "    imax = 10000\n",
    "    \n",
    "    #set an iteration varible\n",
    "    i = 0\n",
    "    \n",
    "    #set the number of coupled odes to the size of y_a\n",
    "    nv = len(y_a)\n",
    "    \n",
    "    #set the intial conditions\n",
    "    x = np.full(1, a)\n",
    "    y = np.full((1, nv), y_a)\n",
    "    \n",
    "    #set a flag\n",
    "    flag = 1\n",
    "    \n",
    "    #loop until we reach the right side\n",
    "    while(flag):\n",
    "        #calculate y_i + 1\n",
    "        yi_new, h_new, h_step = rk4_mv_ad(dydx, xi, yi, nv, h, tol)\n",
    "        \n",
    "        #update the step\n",
    "        h = h_new\n",
    "        \n",
    "        #prevent an overshoot\n",
    "        if(xi + h_step > b):\n",
    "            #take a smaller step \n",
    "            h = b - xi\n",
    "            \n",
    "            #recalculate y_i + 1\n",
    "            yi_new, h_new, h_step = rk4_mv_ad(dydx, xi, yi, nv, h, tol)\n",
    "            \n",
    "            #break\n",
    "            flag = 0\n",
    "            \n",
    "        #update values\n",
    "        xi += h_step\n",
    "        yi[:] = yi_new[:]\n",
    "        \n",
    "        #add the step to the arrays\n",
    "        x = np.append(x, xi)\n",
    "        y_new = np.zeros((len(x), nv))\n",
    "        y_new[0:len(x) - 1, :] = y\n",
    "        y_new[-1, :] = yi[:]\n",
    "        del y\n",
    "        y = y_new\n",
    "        \n",
    "        #prevent too many iterations\n",
    "        if(i >= imax):\n",
    "            print(\"Maximum iterations reached.\")\n",
    "            raise StopIteration(\"Iteration number = \",i)\n",
    "        \n",
    "        #iterate\n",
    "        i += 1\n",
    "        \n",
    "        #output some information\n",
    "        s = \"i = %3d\\tx = %9.8f\\th = %9.8f\\tb=%9.8f\" % (i, xi, h_step, b)\n",
    "        print(s)\n",
    "        \n",
    "        #break if new xi is == b\n",
    "        if(xi == b):\n",
    "            flag = 0\n",
    "        \n",
    "    return x, y"
   ]
  },
  {
   "cell_type": "markdown",
   "metadata": {},
   "source": [
    "### Perform the integration"
   ]
  },
  {
   "cell_type": "code",
   "execution_count": null,
   "metadata": {},
   "outputs": [],
   "source": [
    "a = 0.0\n",
    "b = 2.0 * np.pi\n",
    "\n",
    "y_0 = np.zeros(2)\n",
    "y_0[0] = 0.0\n",
    "y_0[1] = 1.0\n",
    "nv = 2\n",
    "\n",
    "tolerance = 1.0e-6\n",
    "\n",
    "#perform the integration\n",
    "x, y = rk4_mv(dydx, a, b, y_0, tolerance)"
   ]
  },
  {
   "cell_type": "markdown",
   "metadata": {},
   "source": [
    "### Plot the result"
   ]
  },
  {
   "cell_type": "code",
   "execution_count": null,
   "metadata": {},
   "outputs": [],
   "source": [
    "plt.figure(figsize = (8,7))\n",
    "plt.plot(x, y[:,0], 'o', label = 'y(x)')\n",
    "plt.plot(x, y[:,1], 'o', label = 'dydx(x)')\n",
    "xx = np.linspace(0, 2.0*np.pi, 1000)\n",
    "plt.plot(xx, np.sin(xx), label = 'sin(x)')\n",
    "plt.plot(xx, np.cos(xx), label = 'cos(x)')\n",
    "plt.axhline(0, color = 'black', lw = 0.8, ls = '--')\n",
    "plt.xlabel('x')\n",
    "plt.ylabel('y')\n",
    "plt.legend(frameon = False)"
   ]
  },
  {
   "cell_type": "markdown",
   "metadata": {},
   "source": [
    "### Plot the error\n"
   ]
  },
  {
   "cell_type": "code",
   "execution_count": null,
   "metadata": {},
   "outputs": [],
   "source": [
    "plt.figure(figsize = (8,7))\n",
    "y_error = (y[:, 0] - np.sin(x))\n",
    "dydx_error = (y[:, 1] - np.cos(x))\n",
    "plt.plot(x, y_error, label = \"y(x) Error\")\n",
    "plt.plot(x, dydx_error, label = \"dydx(x) Error\")\n",
    "plt.axhline(0, color = 'black', lw = 0.8, ls = '--')\n",
    "plt.legend(frameon = False)"
   ]
  },
  {
   "cell_type": "code",
   "execution_count": null,
   "metadata": {},
   "outputs": [],
   "source": []
  }
 ],
 "metadata": {
  "kernelspec": {
   "display_name": "Python 3",
   "language": "python",
   "name": "python3"
  },
  "language_info": {
   "codemirror_mode": {
    "name": "ipython",
    "version": 3
   },
   "file_extension": ".py",
   "mimetype": "text/x-python",
   "name": "python",
   "nbconvert_exporter": "python",
   "pygments_lexer": "ipython3",
   "version": "3.6.4"
  }
 },
 "nbformat": 4,
 "nbformat_minor": 2
}
